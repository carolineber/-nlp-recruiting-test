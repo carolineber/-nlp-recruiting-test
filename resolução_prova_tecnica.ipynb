{
 "cells": [
  {
   "cell_type": "markdown",
   "id": "e029413d",
   "metadata": {},
   "source": [
    "# Prova Técnica - Resolução\n",
    "\n",
    "**Formato**: Problema Online + Entrevista subsequente\n",
    "\n",
    "**Prazo**: 7 dias\n",
    "\n",
    "**Descrição**: O problema consiste em prever a nota de avaliação dos clientes de um website de ecommerce, com base nos dados de avaliações (train_df.csv).\n",
    "\n",
    "**Entregáveis**: link para repositório no Github com ao menos os seguintes arquivos:\n",
    "- README.md\n",
    "- notebook da solução (`resolução_prova_tecnica.ipynb`)\n",
    "- source-code (`./src`)\n",
    "- requirements.txt\n",
    "\n",
    "**Dados**: train_df.csv\n",
    "- Tabela de dados de empresa de ecommerce com mais de 130 mil avaliações de clientes. A base oferece informações sobre o perfil do revisor, como sexo, idade e localização geográfica.\n",
    "    - y label column: overall_rating"
   ]
  },
  {
   "cell_type": "code",
   "execution_count": null,
   "id": "64acab9c",
   "metadata": {
    "ExecuteTime": {
     "end_time": "2022-06-03T18:51:48.522151Z",
     "start_time": "2022-06-03T18:51:48.493042Z"
    }
   },
   "outputs": [],
   "source": [
    "from src import my_module\n",
    "\n",
    "my_module.helper_function()"
   ]
  },
  {
   "cell_type": "markdown",
   "id": "5cc2d733",
   "metadata": {},
   "source": [
    "# ."
   ]
  }
 ],
 "metadata": {
  "kernelspec": {
   "display_name": "lexter",
   "language": "python",
   "name": "lexter"
  },
  "language_info": {
   "codemirror_mode": {
    "name": "ipython",
    "version": 3
   },
   "file_extension": ".py",
   "mimetype": "text/x-python",
   "name": "python",
   "nbconvert_exporter": "python",
   "pygments_lexer": "ipython3",
   "version": "3.8.10"
  }
 },
 "nbformat": 4,
 "nbformat_minor": 5
}
